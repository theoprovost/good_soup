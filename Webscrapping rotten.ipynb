{
 "cells": [
  {
   "cell_type": "markdown",
   "id": "8e928f37",
   "metadata": {
    "toc": true
   },
   "source": [
    "<h1>Table of Contents<span class=\"tocSkip\"></span></h1>\n",
    "<div class=\"toc\"><ul class=\"toc-item\"></ul></div>"
   ]
  },
  {
   "cell_type": "code",
   "execution_count": 1,
   "id": "b2ebf5fa",
   "metadata": {},
   "outputs": [],
   "source": [
    "from bs4 import BeautifulSoup\n",
    "import pandas as pd\n",
    "import requests"
   ]
  },
  {
   "cell_type": "code",
   "execution_count": 2,
   "id": "eebb1bc3",
   "metadata": {},
   "outputs": [],
   "source": [
    "# Fichier créer depuis le 1er notebook du scrapping du site imdb\n",
    "imdb=pd.read_csv(\"C:/Users/Simplon/Google Drive/Nasreddine/Arturo/12 - Laurent - Webscrapping/good_soup/data/imdb_database.csv\")"
   ]
  },
  {
   "cell_type": "code",
   "execution_count": 3,
   "id": "914f2e86",
   "metadata": {},
   "outputs": [],
   "source": [
    "rotten = requests.get(\"https://www.imdb.com/search/title/?groups=top_250&sort=user_rating&count=250\",headers = {\"Accept-Language\": \"en-US,en;q=0.5\"})"
   ]
  },
  {
   "cell_type": "code",
   "execution_count": 4,
   "id": "8ba2dc4f",
   "metadata": {},
   "outputs": [],
   "source": [
    "imdb[\"tomato_score\"] = \"\"\n",
    "imdb[\"audience_score\"] = \"\""
   ]
  },
  {
   "cell_type": "code",
   "execution_count": 5,
   "id": "16cc80c7",
   "metadata": {
    "scrolled": false
   },
   "outputs": [
    {
     "name": "stderr",
     "output_type": "stream",
     "text": [
      "C:\\Users\\Simplon\\anaconda3\\lib\\site-packages\\pandas\\core\\indexing.py:1732: SettingWithCopyWarning: \n",
      "A value is trying to be set on a copy of a slice from a DataFrame\n",
      "\n",
      "See the caveats in the documentation: https://pandas.pydata.org/pandas-docs/stable/user_guide/indexing.html#returning-a-view-versus-a-copy\n",
      "  self._setitem_single_block(indexer, value, name)\n"
     ]
    }
   ],
   "source": [
    "for i in range(len(imdb)):\n",
    "    recherche = imdb['movie'].iloc[i]\n",
    "    annee = imdb['year'].iloc[i]\n",
    "    recherche = recherche.replace(\" \", \"%20\")\n",
    "\n",
    "    rt2_url = f\"https://www.rottentomatoes.com/search?search={recherche}\"\n",
    "    req2 = requests.get(rt2_url)\n",
    "    soup2 = BeautifulSoup(req2.text, 'html.parser')\n",
    "    \n",
    "    if soup2.find_all(\"search-page-media-row\",{\"releaseyear\":annee}):\n",
    "        new_url=soup2.find_all(\"search-page-media-row\",{\"releaseyear\":annee})[0](\"a\")[0][\"href\"]\n",
    "        #print(i)\n",
    "        req3 = requests.get(new_url)\n",
    "        soup3 = BeautifulSoup(req3.text, \"html.parser\")\n",
    "        imdb[\"tomato_score\"].iloc[i] = (soup3.find('score-board')['tomatometerscore'])\n",
    "        imdb[\"audience_score\"].iloc[i] = (soup3.find('score-board')['audiencescore'])"
   ]
  },
  {
   "cell_type": "code",
   "execution_count": 6,
   "id": "0afa7b15",
   "metadata": {
    "scrolled": false
   },
   "outputs": [],
   "source": [
    "imdb.to_csv(\"tomato.csv\", index=False, header=True, sep=\"|\")"
   ]
  },
  {
   "cell_type": "code",
   "execution_count": 7,
   "id": "309374a5",
   "metadata": {},
   "outputs": [
    {
     "name": "stdout",
     "output_type": "stream",
     "text": [
      "92\n",
      "92\n"
     ]
    }
   ],
   "source": [
    "#df=pd.read_csv(\"./data/top_film.csv\", delimiter=\"|\")\n",
    "rt2_url = f\"https://www.rottentomatoes.com/search?search={recherche}\"\n",
    "req2 = requests.get(rt2_url)\n",
    "\n",
    "soup2 = BeautifulSoup(req2.text, 'html.parser')\n",
    "\n",
    "new_url=soup2.find_all(\"search-page-media-row\",{\"releaseyear\":annee})[0](\"a\")[0][\"href\"]\n",
    "rt3_url = new_url\n",
    "\n",
    "req3 = requests.get(rt3_url)\n",
    "soup3 = BeautifulSoup(req3.text, \"html.parser\")\n",
    "\n",
    "print(soup3.find('score-board')['tomatometerscore'])\n",
    "print(soup3.find('score-board')['audiencescore'])"
   ]
  }
 ],
 "metadata": {
  "hide_input": false,
  "kernelspec": {
   "display_name": "Python 3 (ipykernel)",
   "language": "python",
   "name": "python3"
  },
  "language_info": {
   "codemirror_mode": {
    "name": "ipython",
    "version": 3
   },
   "file_extension": ".py",
   "mimetype": "text/x-python",
   "name": "python",
   "nbconvert_exporter": "python",
   "pygments_lexer": "ipython3",
   "version": "3.8.8"
  },
  "toc": {
   "base_numbering": 1,
   "nav_menu": {},
   "number_sections": true,
   "sideBar": true,
   "skip_h1_title": false,
   "title_cell": "Table of Contents",
   "title_sidebar": "Contents",
   "toc_cell": true,
   "toc_position": {},
   "toc_section_display": true,
   "toc_window_display": false
  },
  "varInspector": {
   "cols": {
    "lenName": 16,
    "lenType": 16,
    "lenVar": 40
   },
   "kernels_config": {
    "python": {
     "delete_cmd_postfix": "",
     "delete_cmd_prefix": "del ",
     "library": "var_list.py",
     "varRefreshCmd": "print(var_dic_list())"
    },
    "r": {
     "delete_cmd_postfix": ") ",
     "delete_cmd_prefix": "rm(",
     "library": "var_list.r",
     "varRefreshCmd": "cat(var_dic_list()) "
    }
   },
   "types_to_exclude": [
    "module",
    "function",
    "builtin_function_or_method",
    "instance",
    "_Feature"
   ],
   "window_display": false
  }
 },
 "nbformat": 4,
 "nbformat_minor": 5
}
