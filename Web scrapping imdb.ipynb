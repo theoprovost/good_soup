{
 "cells": [
  {
   "cell_type": "markdown",
   "id": "6b7854bb",
   "metadata": {
    "toc": true
   },
   "source": [
    "<h1>Table of Contents<span class=\"tocSkip\"></span></h1>\n",
    "<div class=\"toc\"><ul class=\"toc-item\"><li><span><a href=\"#Import\" data-toc-modified-id=\"Import-1\"><span class=\"toc-item-num\">1&nbsp;&nbsp;</span>Import</a></span></li><li><span><a href=\"#Scrapping\" data-toc-modified-id=\"Scrapping-2\"><span class=\"toc-item-num\">2&nbsp;&nbsp;</span>Scrapping</a></span></li></ul></div>"
   ]
  },
  {
   "cell_type": "markdown",
   "id": "91ca7f64",
   "metadata": {},
   "source": [
    "# Import"
   ]
  },
  {
   "cell_type": "code",
   "execution_count": 24,
   "id": "402cc2cf",
   "metadata": {},
   "outputs": [],
   "source": [
    "from bs4 import BeautifulSoup\n",
    "import pandas as pd\n",
    "import requests"
   ]
  },
  {
   "cell_type": "markdown",
   "id": "65a9730c",
   "metadata": {},
   "source": [
    "# Scrapping"
   ]
  },
  {
   "cell_type": "code",
   "execution_count": 25,
   "id": "b69a4021",
   "metadata": {},
   "outputs": [],
   "source": [
    "imdb = requests.get(\"https://www.imdb.com/search/title/?groups=top_250&sort=user_rating&count=250\",headers = {\"Accept-Language\": \"en-US,en;q=0.5\"})"
   ]
  },
  {
   "cell_type": "code",
   "execution_count": 3,
   "id": "481c48fe",
   "metadata": {},
   "outputs": [],
   "source": [
    "soup = BeautifulSoup(imdb.text, 'html.parser')"
   ]
  },
  {
   "cell_type": "code",
   "execution_count": 4,
   "id": "ea08860c",
   "metadata": {},
   "outputs": [],
   "source": [
    "# Get nmb film for this page\n",
    "def get_nb_film():\n",
    "    first_film = soup.find(\"div\", {\"class\" : \"desc\"}).span.text[0:1]\n",
    "    last_film  = soup.find(\"div\", {\"class\" : \"desc\"}).span.text[2:5]\n",
    "    first_film = int(first_film)\n",
    "    last_film = int(last_film)\n",
    "    return first_film, last_film"
   ]
  },
  {
   "cell_type": "code",
   "execution_count": 5,
   "id": "60ada5e8",
   "metadata": {},
   "outputs": [
    {
     "data": {
      "text/plain": [
       "(1, 250)"
      ]
     },
     "execution_count": 5,
     "metadata": {},
     "output_type": "execute_result"
    }
   ],
   "source": [
    "get_nb_film()"
   ]
  },
  {
   "cell_type": "code",
   "execution_count": 22,
   "id": "eb27b6e8",
   "metadata": {
    "code_folding": []
   },
   "outputs": [],
   "source": [
    "# Get movie - duration - year - genre\n",
    "movie = []\n",
    "duration = []\n",
    "year = []\n",
    "genre = []\n",
    "\n",
    "for film in range (get_nb_film()[0]-1, get_nb_film()[1]):\n",
    "    movie.append(soup.find_all('div', {'class' : 'lister-item-content'})[film].a.text)\n",
    "    duration.append(soup.find_all('span', {'class' : 'runtime'})[film].text.split()[0])\n",
    "    year.append(soup.find_all(\"span\",{\"class\":\"lister-item-year text-muted unbold\"})[film].text.split()[-1][1:5])\n",
    "    genre.append(soup.find_all('span', {'class' : 'genre'})[film].text.strip())"
   ]
  },
  {
   "cell_type": "code",
   "execution_count": 26,
   "id": "51c0bd6c",
   "metadata": {},
   "outputs": [],
   "source": [
    "df = pd.DataFrame({\"movie\":movie,\"duration\":duration,\"year\":year,\"genre\":genre})"
   ]
  },
  {
   "cell_type": "code",
   "execution_count": 27,
   "id": "36da702f",
   "metadata": {
    "code_folding": []
   },
   "outputs": [],
   "source": [
    "# Supprimer \"min\" et \"()\"\n",
    "df[\"duration\"] = df[\"duration\"].str[:3].astype(int)"
   ]
  },
  {
   "cell_type": "code",
   "execution_count": 22,
   "id": "deef686c",
   "metadata": {},
   "outputs": [],
   "source": [
    "df.to_csv(\"imdb_database.csv\", index=False)"
   ]
  },
  {
   "cell_type": "code",
   "execution_count": 28,
   "id": "aa4ab92b",
   "metadata": {},
   "outputs": [
    {
     "data": {
      "text/html": [
       "<div>\n",
       "<style scoped>\n",
       "    .dataframe tbody tr th:only-of-type {\n",
       "        vertical-align: middle;\n",
       "    }\n",
       "\n",
       "    .dataframe tbody tr th {\n",
       "        vertical-align: top;\n",
       "    }\n",
       "\n",
       "    .dataframe thead th {\n",
       "        text-align: right;\n",
       "    }\n",
       "</style>\n",
       "<table border=\"1\" class=\"dataframe\">\n",
       "  <thead>\n",
       "    <tr style=\"text-align: right;\">\n",
       "      <th></th>\n",
       "      <th>movie</th>\n",
       "      <th>duration</th>\n",
       "      <th>year</th>\n",
       "      <th>genre</th>\n",
       "    </tr>\n",
       "  </thead>\n",
       "  <tbody>\n",
       "    <tr>\n",
       "      <th>0</th>\n",
       "      <td>The Shawshank Redemption</td>\n",
       "      <td>142</td>\n",
       "      <td>1994</td>\n",
       "      <td>Drama</td>\n",
       "    </tr>\n",
       "    <tr>\n",
       "      <th>1</th>\n",
       "      <td>The Godfather</td>\n",
       "      <td>175</td>\n",
       "      <td>1972</td>\n",
       "      <td>Crime, Drama</td>\n",
       "    </tr>\n",
       "    <tr>\n",
       "      <th>2</th>\n",
       "      <td>The Dark Knight</td>\n",
       "      <td>152</td>\n",
       "      <td>2008</td>\n",
       "      <td>Action, Crime, Drama</td>\n",
       "    </tr>\n",
       "    <tr>\n",
       "      <th>3</th>\n",
       "      <td>The Godfather: Part II</td>\n",
       "      <td>202</td>\n",
       "      <td>1974</td>\n",
       "      <td>Crime, Drama</td>\n",
       "    </tr>\n",
       "    <tr>\n",
       "      <th>4</th>\n",
       "      <td>12 Angry Men</td>\n",
       "      <td>96</td>\n",
       "      <td>1957</td>\n",
       "      <td>Crime, Drama</td>\n",
       "    </tr>\n",
       "    <tr>\n",
       "      <th>...</th>\n",
       "      <td>...</td>\n",
       "      <td>...</td>\n",
       "      <td>...</td>\n",
       "      <td>...</td>\n",
       "    </tr>\n",
       "    <tr>\n",
       "      <th>245</th>\n",
       "      <td>Mr. Smith Goes to Washington</td>\n",
       "      <td>129</td>\n",
       "      <td>1939</td>\n",
       "      <td>Comedy, Drama</td>\n",
       "    </tr>\n",
       "    <tr>\n",
       "      <th>246</th>\n",
       "      <td>Gone with the Wind</td>\n",
       "      <td>238</td>\n",
       "      <td>1939</td>\n",
       "      <td>Drama, History, Romance</td>\n",
       "    </tr>\n",
       "    <tr>\n",
       "      <th>247</th>\n",
       "      <td>It Happened One Night</td>\n",
       "      <td>105</td>\n",
       "      <td>1934</td>\n",
       "      <td>Comedy, Romance</td>\n",
       "    </tr>\n",
       "    <tr>\n",
       "      <th>248</th>\n",
       "      <td>The Passion of Joan of Arc</td>\n",
       "      <td>114</td>\n",
       "      <td>1928</td>\n",
       "      <td>Biography, Drama, History</td>\n",
       "    </tr>\n",
       "    <tr>\n",
       "      <th>249</th>\n",
       "      <td>The General</td>\n",
       "      <td>67</td>\n",
       "      <td>1926</td>\n",
       "      <td>Action, Adventure, Comedy</td>\n",
       "    </tr>\n",
       "  </tbody>\n",
       "</table>\n",
       "<p>250 rows × 4 columns</p>\n",
       "</div>"
      ],
      "text/plain": [
       "                            movie  duration  year                      genre\n",
       "0        The Shawshank Redemption       142  1994                      Drama\n",
       "1                   The Godfather       175  1972               Crime, Drama\n",
       "2                 The Dark Knight       152  2008       Action, Crime, Drama\n",
       "3          The Godfather: Part II       202  1974               Crime, Drama\n",
       "4                    12 Angry Men        96  1957               Crime, Drama\n",
       "..                            ...       ...   ...                        ...\n",
       "245  Mr. Smith Goes to Washington       129  1939              Comedy, Drama\n",
       "246            Gone with the Wind       238  1939    Drama, History, Romance\n",
       "247         It Happened One Night       105  1934            Comedy, Romance\n",
       "248    The Passion of Joan of Arc       114  1928  Biography, Drama, History\n",
       "249                   The General        67  1926  Action, Adventure, Comedy\n",
       "\n",
       "[250 rows x 4 columns]"
      ]
     },
     "execution_count": 28,
     "metadata": {},
     "output_type": "execute_result"
    }
   ],
   "source": [
    "df"
   ]
  }
 ],
 "metadata": {
  "hide_input": false,
  "kernelspec": {
   "display_name": "Python 3",
   "language": "python",
   "name": "python3"
  },
  "language_info": {
   "codemirror_mode": {
    "name": "ipython",
    "version": 3
   },
   "file_extension": ".py",
   "mimetype": "text/x-python",
   "name": "python",
   "nbconvert_exporter": "python",
   "pygments_lexer": "ipython3",
   "version": "3.8.8"
  },
  "toc": {
   "base_numbering": 1,
   "nav_menu": {},
   "number_sections": true,
   "sideBar": true,
   "skip_h1_title": false,
   "title_cell": "Table of Contents",
   "title_sidebar": "Contents",
   "toc_cell": true,
   "toc_position": {},
   "toc_section_display": true,
   "toc_window_display": false
  },
  "varInspector": {
   "cols": {
    "lenName": 16,
    "lenType": 16,
    "lenVar": 40
   },
   "kernels_config": {
    "python": {
     "delete_cmd_postfix": "",
     "delete_cmd_prefix": "del ",
     "library": "var_list.py",
     "varRefreshCmd": "print(var_dic_list())"
    },
    "r": {
     "delete_cmd_postfix": ") ",
     "delete_cmd_prefix": "rm(",
     "library": "var_list.r",
     "varRefreshCmd": "cat(var_dic_list()) "
    }
   },
   "types_to_exclude": [
    "module",
    "function",
    "builtin_function_or_method",
    "instance",
    "_Feature"
   ],
   "window_display": false
  }
 },
 "nbformat": 4,
 "nbformat_minor": 5
}
